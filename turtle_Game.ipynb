{
 "cells": [
  {
   "cell_type": "code",
   "execution_count": 4,
   "metadata": {},
   "outputs": [],
   "source": [
    "import  turtle\n",
    "import random\n",
    "screen=turtle.getscreen() # علشان نعمل خلفيه  نخلق كيا ن \n",
    "screen.bgcolor(\"blue\") #background \n",
    "screen.bgpic(\"turtle.png\") # background picture \n",
    "screen.setup(800,500) # حجم الصوره  \n",
    "superman=turtle.Turtle()\n",
    "superman.shape('turtle')\n",
    "#superman.hideturtle()\n",
    "superman.up()\n",
    "superman.goto(10,-370)\n",
    "superman.down()\n",
    "size=40\n",
    "superman.speed(0)\n",
    "colors=['red','blue','yellow','green','cyan','purple','pink','orange'] #list\n",
    "for circle in range(100):\n",
    "    superman.color(random.choice(colors))\n",
    "    superman.circle(size)\n",
    "    size=size+5"
   ]
  },
  {
   "cell_type": "code",
   "execution_count": null,
   "metadata": {},
   "outputs": [],
   "source": []
  }
 ],
 "metadata": {
  "kernelspec": {
   "display_name": "Python 3",
   "language": "python",
   "name": "python3"
  },
  "language_info": {
   "codemirror_mode": {
    "name": "ipython",
    "version": 3
   },
   "file_extension": ".py",
   "mimetype": "text/x-python",
   "name": "python",
   "nbconvert_exporter": "python",
   "pygments_lexer": "ipython3",
   "version": "3.7.6"
  }
 },
 "nbformat": 4,
 "nbformat_minor": 4
}
